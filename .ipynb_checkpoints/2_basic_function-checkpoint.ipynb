{
 "cells": [
  {
   "cell_type": "markdown",
   "metadata": {},
   "source": [
    "# 1. if文による分岐"
   ]
  },
  {
   "cell_type": "markdown",
   "metadata": {},
   "source": [
    "## 例1；年齢に応じたお酒の価格設定"
   ]
  },
  {
   "cell_type": "code",
   "execution_count": 21,
   "metadata": {},
   "outputs": [
    {
     "name": "stdout",
     "output_type": "stream",
     "text": [
      "あなたは42歳なので、\n",
      "価格は通常料金になります。\n"
     ]
    }
   ],
   "source": [
    "import random\n",
    "\n",
    "age = random.randint(1,99)\n",
    "age_description = \"あなたは\" + str(age) + \"歳なので、\"\n",
    "print(age_description)\n",
    "\n",
    "if (age >= 60):\n",
    "    print(\"価格はシニア料金になります。\")\n",
    "elif (59 >= age >= 20):\n",
    "    print(\"価格は通常料金になります。\")\n",
    "else:\n",
    "    print(\"お酒は二十歳になってからね！\")\n",
    "    "
   ]
  },
  {
   "cell_type": "markdown",
   "metadata": {},
   "source": [
    "## 例2：ポイントによる割引判定"
   ]
  },
  {
   "cell_type": "code",
   "execution_count": 22,
   "metadata": {},
   "outputs": [
    {
     "name": "stdout",
     "output_type": "stream",
     "text": [
      "価格はポイント割引価格になります。\n"
     ]
    }
   ],
   "source": [
    "has_card = True\n",
    "view_count = 20\n",
    "\n",
    "if ((has_card == True) and (view_count % 5 == 0)):\n",
    "    print('価格はポイント割引料金になります。')"
   ]
  },
  {
   "cell_type": "markdown",
   "metadata": {},
   "source": [
    "## 例3：年齢とポイントによる価格設定"
   ]
  },
  {
   "cell_type": "code",
   "execution_count": 41,
   "metadata": {},
   "outputs": [
    {
     "name": "stdout",
     "output_type": "stream",
     "text": [
      "年齢：20　購入回数：95\n",
      "価格はポイント割引価格になります。\n"
     ]
    }
   ],
   "source": [
    "age = random.randint(1,99)\n",
    "has_card = True\n",
    "view_count = random.randint(1,100)\n",
    "print(\"年齢：\" + str(age) + \"　購入回数：\" + str(view_count))\n",
    "\n",
    "if (age <= 18):\n",
    "    print(\"お酒は二十歳になってから\")\n",
    "elif ((has_card == True) and (view_count % 5 == 0)):\n",
    "    if (age >= 60):\n",
    "        print(\"価格はシニア料金からさらにポイント割引になります。\")\n",
    "    else:\n",
    "        print('価格はポイント割引価格になります。')\n",
    "elif (age >= 60):\n",
    "        print(\"価格はシニア料金になります。\")\n",
    "else:\n",
    "    print(\"価格は通常料金になります。\")\n",
    "    \n",
    "    "
   ]
  },
  {
   "cell_type": "markdown",
   "metadata": {},
   "source": [
    "# 2. 繰り返し"
   ]
  },
  {
   "cell_type": "markdown",
   "metadata": {
    "collapsed": true
   },
   "source": [
    "## for文"
   ]
  },
  {
   "cell_type": "code",
   "execution_count": 43,
   "metadata": {},
   "outputs": [
    {
     "name": "stdout",
     "output_type": "stream",
     "text": [
      "繰り返しますぞ\n",
      "0\n",
      "繰り返しますぞ\n",
      "1\n",
      "繰り返しますぞ\n",
      "2\n"
     ]
    }
   ],
   "source": [
    "for count in range(3):\n",
    "    print(\"繰り返しますぞ\")\n",
    "    print(count)"
   ]
  },
  {
   "cell_type": "code",
   "execution_count": 44,
   "metadata": {},
   "outputs": [
    {
     "name": "stdout",
     "output_type": "stream",
     "text": [
      "j\n",
      "u\n",
      "d\n",
      "g\n",
      "e\n",
      "m\n",
      "e\n",
      "n\n",
      "t\n",
      "で\n",
      "す\n",
      "の\n"
     ]
    }
   ],
   "source": [
    "word = \"judgementですの\"\n",
    "\n",
    "for char in word:\n",
    "    print(char)"
   ]
  },
  {
   "cell_type": "code",
   "execution_count": 45,
   "metadata": {},
   "outputs": [
    {
     "name": "stdout",
     "output_type": "stream",
     "text": [
      "now cokking...shio\n",
      "now cokking...miso\n",
      "now cokking...shoyu\n",
      "now cokking...tonkotsu\n"
     ]
    }
   ],
   "source": [
    "ramen_list = [\"shio\", \"miso\", \"shoyu\", \"tonkotsu\"]\n",
    "\n",
    "for ramen in ramen_list:\n",
    "    print(\"now cokking...\" + ramen)"
   ]
  },
  {
   "cell_type": "code",
   "execution_count": 51,
   "metadata": {},
   "outputs": [
    {
     "name": "stdout",
     "output_type": "stream",
     "text": [
      "田中\n",
      "175cm\n",
      "佐藤\n",
      "156cm\n",
      "佐々木\n",
      "180cm\n",
      "高木\n",
      "145cm\n"
     ]
    }
   ],
   "source": [
    "members = {\"田中\":175, \"佐藤\":156, \"佐々木\":180, \"高木\":145}\n",
    "\n",
    "for member in members:\n",
    "    print(member)\n",
    "    print(str(members[member]) + \"cm\")"
   ]
  },
  {
   "cell_type": "markdown",
   "metadata": {},
   "source": [
    "## while文"
   ]
  },
  {
   "cell_type": "code",
   "execution_count": 52,
   "metadata": {},
   "outputs": [
    {
     "name": "stdout",
     "output_type": "stream",
     "text": [
      "0\n",
      "1\n",
      "2\n",
      "3\n",
      "4\n"
     ]
    }
   ],
   "source": [
    "counter = 0\n",
    "\n",
    "while (counter < 5):\n",
    "    print(counter)\n",
    "    counter = counter + 1"
   ]
  },
  {
   "cell_type": "code",
   "execution_count": 53,
   "metadata": {},
   "outputs": [
    {
     "name": "stdout",
     "output_type": "stream",
     "text": [
      "月牙天衝\n",
      "月牙十字衝\n",
      "月牙天衝\n",
      "月牙十字衝\n",
      "月牙天衝\n",
      "月牙十字衝\n"
     ]
    }
   ],
   "source": [
    "hit_point = 3\n",
    "\n",
    "while (True):\n",
    "    print(\"月牙天衝\")\n",
    "    print(\"月牙十字衝\")\n",
    "    hit_point = hit_point - 1\n",
    "    \n",
    "    if (hit_point == 0):\n",
    "        break"
   ]
  },
  {
   "cell_type": "code",
   "execution_count": 56,
   "metadata": {},
   "outputs": [
    {
     "name": "stdout",
     "output_type": "stream",
     "text": [
      "おはよう！Ken\n",
      "起きて！\n",
      "朝ごはん食べて！\n",
      "おはよう！Jun\n",
      "起きて！\n",
      "朝ごはん食べて！\n",
      "おはよう！Yuki\n",
      "起きて！\n",
      "朝ごはん食べて！\n"
     ]
    }
   ],
   "source": [
    "children = [\"Ken\", \"Jun\", \"Yuki\"]\n",
    "\n",
    "for child in children:\n",
    "    print(\"おはよう！\" + child)\n",
    "    print(\"起きて！\")\n",
    "    print(\"朝ごはん食べて！\")\n",
    "    continue\n",
    "    print(\"学校行って！\")"
   ]
  },
  {
   "cell_type": "markdown",
   "metadata": {},
   "source": [
    "# 3. 関数"
   ]
  },
  {
   "cell_type": "code",
   "execution_count": 57,
   "metadata": {
    "collapsed": true
   },
   "outputs": [],
   "source": [
    "def washingMachine(mode):\n",
    "    print(\"給水する\")\n",
    "    if (mode == \"soft\"):\n",
    "        print(\"やさしく洗う\")\n",
    "    elif (mode == \"hard\"):\n",
    "        print(\"しっかり洗う\")\n",
    "    else:\n",
    "        print(\"普通に洗う\")\n",
    "    print(\"すすぐ\")\n",
    "    print(\"脱水する\")\n",
    "    print(\"乾燥する\")"
   ]
  },
  {
   "cell_type": "code",
   "execution_count": 58,
   "metadata": {},
   "outputs": [
    {
     "name": "stdout",
     "output_type": "stream",
     "text": [
      "給水する\n",
      "やさしく洗う\n",
      "すすぐ\n",
      "脱水する\n",
      "乾燥する\n"
     ]
    }
   ],
   "source": [
    "washingMachine(\"soft\")"
   ]
  },
  {
   "cell_type": "code",
   "execution_count": 59,
   "metadata": {},
   "outputs": [
    {
     "name": "stdout",
     "output_type": "stream",
     "text": [
      "給水する\n",
      "しっかり洗う\n",
      "すすぐ\n",
      "脱水する\n",
      "乾燥する\n"
     ]
    }
   ],
   "source": [
    "washingMachine(\"hard\")"
   ]
  },
  {
   "cell_type": "code",
   "execution_count": 60,
   "metadata": {},
   "outputs": [
    {
     "name": "stdout",
     "output_type": "stream",
     "text": [
      "給水する\n",
      "普通に洗う\n",
      "すすぐ\n",
      "脱水する\n",
      "乾燥する\n"
     ]
    }
   ],
   "source": [
    "washingMachine(\"hoge\")"
   ]
  },
  {
   "cell_type": "code",
   "execution_count": 61,
   "metadata": {},
   "outputs": [
    {
     "ename": "TypeError",
     "evalue": "washingMachine() missing 1 required positional argument: 'mode'",
     "output_type": "error",
     "traceback": [
      "\u001b[0;31m---------------------------------------------------------------------------\u001b[0m",
      "\u001b[0;31mTypeError\u001b[0m                                 Traceback (most recent call last)",
      "\u001b[0;32m<ipython-input-61-89c0085817fd>\u001b[0m in \u001b[0;36m<module>\u001b[0;34m()\u001b[0m\n\u001b[0;32m----> 1\u001b[0;31m \u001b[0mwashingMachine\u001b[0m\u001b[0;34m(\u001b[0m\u001b[0;34m)\u001b[0m\u001b[0;34m\u001b[0m\u001b[0m\n\u001b[0m",
      "\u001b[0;31mTypeError\u001b[0m: washingMachine() missing 1 required positional argument: 'mode'"
     ]
    }
   ],
   "source": [
    "washingMachine()"
   ]
  },
  {
   "cell_type": "code",
   "execution_count": 62,
   "metadata": {
    "collapsed": true
   },
   "outputs": [],
   "source": [
    "# 円の面積\n",
    "def calculate_circle_area(radius):\n",
    "    result = radius ** 2 * 3.14\n",
    "    return result"
   ]
  },
  {
   "cell_type": "code",
   "execution_count": 63,
   "metadata": {},
   "outputs": [
    {
     "data": {
      "text/plain": [
       "3.14"
      ]
     },
     "execution_count": 63,
     "metadata": {},
     "output_type": "execute_result"
    }
   ],
   "source": [
    "calculate_circle_area(1)"
   ]
  },
  {
   "cell_type": "code",
   "execution_count": 65,
   "metadata": {},
   "outputs": [
    {
     "data": {
      "text/plain": [
       "78.5"
      ]
     },
     "execution_count": 65,
     "metadata": {},
     "output_type": "execute_result"
    }
   ],
   "source": [
    "calculate_circle_area(5)"
   ]
  },
  {
   "cell_type": "code",
   "execution_count": 67,
   "metadata": {},
   "outputs": [
    {
     "name": "stdout",
     "output_type": "stream",
     "text": [
      "314.0\n"
     ]
    }
   ],
   "source": [
    "circle_10 = calculate_circle_area(10)\n",
    "print(circle_10)"
   ]
  },
  {
   "cell_type": "code",
   "execution_count": 68,
   "metadata": {},
   "outputs": [
    {
     "data": {
      "text/plain": [
       "11"
      ]
     },
     "execution_count": 68,
     "metadata": {},
     "output_type": "execute_result"
    }
   ],
   "source": [
    "# 組み込み関数\n",
    "len(\"abcdefghijk\")"
   ]
  },
  {
   "cell_type": "code",
   "execution_count": 69,
   "metadata": {},
   "outputs": [
    {
     "data": {
      "text/plain": [
       "5"
      ]
     },
     "execution_count": 69,
     "metadata": {},
     "output_type": "execute_result"
    }
   ],
   "source": [
    "len([1,2,3,4,5])"
   ]
  },
  {
   "cell_type": "code",
   "execution_count": 70,
   "metadata": {},
   "outputs": [
    {
     "data": {
      "text/plain": [
       "8"
      ]
     },
     "execution_count": 70,
     "metadata": {},
     "output_type": "execute_result"
    }
   ],
   "source": [
    "max([1,4,8])"
   ]
  },
  {
   "cell_type": "code",
   "execution_count": 71,
   "metadata": {},
   "outputs": [
    {
     "data": {
      "text/plain": [
       "1"
      ]
     },
     "execution_count": 71,
     "metadata": {},
     "output_type": "execute_result"
    }
   ],
   "source": [
    "min([1,4,8])"
   ]
  },
  {
   "cell_type": "code",
   "execution_count": 73,
   "metadata": {},
   "outputs": [
    {
     "data": {
      "text/plain": [
       "'u'"
      ]
     },
     "execution_count": 73,
     "metadata": {},
     "output_type": "execute_result"
    }
   ],
   "source": [
    "max(\"sltibuahlnjksralrjgqo\")"
   ]
  },
  {
   "cell_type": "code",
   "execution_count": 74,
   "metadata": {},
   "outputs": [
    {
     "data": {
      "text/plain": [
       "'a'"
      ]
     },
     "execution_count": 74,
     "metadata": {},
     "output_type": "execute_result"
    }
   ],
   "source": [
    "min(\"sltibuahlnjksralrjgqo\")"
   ]
  },
  {
   "cell_type": "code",
   "execution_count": 75,
   "metadata": {},
   "outputs": [
    {
     "data": {
      "text/plain": [
       "'a'"
      ]
     },
     "execution_count": 75,
     "metadata": {},
     "output_type": "execute_result"
    }
   ],
   "source": [
    "max(\"1Aa\")"
   ]
  },
  {
   "cell_type": "code",
   "execution_count": 76,
   "metadata": {},
   "outputs": [
    {
     "data": {
      "text/plain": [
       "'1'"
      ]
     },
     "execution_count": 76,
     "metadata": {},
     "output_type": "execute_result"
    }
   ],
   "source": [
    "min(\"1Aa\")"
   ]
  },
  {
   "cell_type": "code",
   "execution_count": 78,
   "metadata": {},
   "outputs": [
    {
     "data": {
      "text/plain": [
       "[':',\n",
       " ';',\n",
       " '@',\n",
       " 'a',\n",
       " 'a',\n",
       " 'a',\n",
       " 'f',\n",
       " 'h',\n",
       " 'h',\n",
       " 'i',\n",
       " 'i',\n",
       " 'l',\n",
       " 'o',\n",
       " 't',\n",
       " 'v',\n",
       " 'w']"
      ]
     },
     "execution_count": 78,
     "metadata": {},
     "output_type": "execute_result"
    }
   ],
   "source": [
    "sorted(\"a;otiha:v@ahliwf\")"
   ]
  },
  {
   "cell_type": "code",
   "execution_count": 80,
   "metadata": {},
   "outputs": [
    {
     "data": {
      "text/plain": [
       "['1', 'A', 'a']"
      ]
     },
     "execution_count": 80,
     "metadata": {},
     "output_type": "execute_result"
    }
   ],
   "source": [
    "sorted(\"a1A\")"
   ]
  },
  {
   "cell_type": "code",
   "execution_count": 81,
   "metadata": {},
   "outputs": [
    {
     "data": {
      "text/plain": [
       "[0, 1, 2, 2, 3, 4, 4, 5, 7, 9]"
      ]
     },
     "execution_count": 81,
     "metadata": {},
     "output_type": "execute_result"
    }
   ],
   "source": [
    "sorted([1,4,7,2,3,9,4,0,5,2])"
   ]
  },
  {
   "cell_type": "code",
   "execution_count": 83,
   "metadata": {},
   "outputs": [
    {
     "data": {
      "text/plain": [
       "int"
      ]
     },
     "execution_count": 83,
     "metadata": {},
     "output_type": "execute_result"
    }
   ],
   "source": [
    "hatena_1 = 100\n",
    "type(hatena_1)"
   ]
  },
  {
   "cell_type": "code",
   "execution_count": 85,
   "metadata": {},
   "outputs": [
    {
     "data": {
      "text/plain": [
       "str"
      ]
     },
     "execution_count": 85,
     "metadata": {},
     "output_type": "execute_result"
    }
   ],
   "source": [
    "hatena_2 = \"ba;uvma\"\n",
    "type(hatena_2)"
   ]
  },
  {
   "cell_type": "code",
   "execution_count": 87,
   "metadata": {},
   "outputs": [
    {
     "data": {
      "text/plain": [
       "list"
      ]
     },
     "execution_count": 87,
     "metadata": {},
     "output_type": "execute_result"
    }
   ],
   "source": [
    "hatena_3 = [\"asrgae\", \"4234\"]\n",
    "type(hatena_3)"
   ]
  },
  {
   "cell_type": "code",
   "execution_count": 89,
   "metadata": {},
   "outputs": [
    {
     "data": {
      "text/plain": [
       "['__add__',\n",
       " '__class__',\n",
       " '__contains__',\n",
       " '__delattr__',\n",
       " '__dir__',\n",
       " '__doc__',\n",
       " '__eq__',\n",
       " '__format__',\n",
       " '__ge__',\n",
       " '__getattribute__',\n",
       " '__getitem__',\n",
       " '__getnewargs__',\n",
       " '__gt__',\n",
       " '__hash__',\n",
       " '__init__',\n",
       " '__init_subclass__',\n",
       " '__iter__',\n",
       " '__le__',\n",
       " '__len__',\n",
       " '__lt__',\n",
       " '__mod__',\n",
       " '__mul__',\n",
       " '__ne__',\n",
       " '__new__',\n",
       " '__reduce__',\n",
       " '__reduce_ex__',\n",
       " '__repr__',\n",
       " '__rmod__',\n",
       " '__rmul__',\n",
       " '__setattr__',\n",
       " '__sizeof__',\n",
       " '__str__',\n",
       " '__subclasshook__',\n",
       " 'capitalize',\n",
       " 'casefold',\n",
       " 'center',\n",
       " 'count',\n",
       " 'encode',\n",
       " 'endswith',\n",
       " 'expandtabs',\n",
       " 'find',\n",
       " 'format',\n",
       " 'format_map',\n",
       " 'index',\n",
       " 'isalnum',\n",
       " 'isalpha',\n",
       " 'isdecimal',\n",
       " 'isdigit',\n",
       " 'isidentifier',\n",
       " 'islower',\n",
       " 'isnumeric',\n",
       " 'isprintable',\n",
       " 'isspace',\n",
       " 'istitle',\n",
       " 'isupper',\n",
       " 'join',\n",
       " 'ljust',\n",
       " 'lower',\n",
       " 'lstrip',\n",
       " 'maketrans',\n",
       " 'partition',\n",
       " 'replace',\n",
       " 'rfind',\n",
       " 'rindex',\n",
       " 'rjust',\n",
       " 'rpartition',\n",
       " 'rsplit',\n",
       " 'rstrip',\n",
       " 'split',\n",
       " 'splitlines',\n",
       " 'startswith',\n",
       " 'strip',\n",
       " 'swapcase',\n",
       " 'title',\n",
       " 'translate',\n",
       " 'upper',\n",
       " 'zfill']"
      ]
     },
     "execution_count": 89,
     "metadata": {},
     "output_type": "execute_result"
    }
   ],
   "source": [
    "string_1 = \"aaaaa\"\n",
    "dir(string_1)"
   ]
  },
  {
   "cell_type": "code",
   "execution_count": 90,
   "metadata": {},
   "outputs": [
    {
     "data": {
      "text/plain": [
       "'Aaaaa'"
      ]
     },
     "execution_count": 90,
     "metadata": {},
     "output_type": "execute_result"
    }
   ],
   "source": [
    " string_1.title()"
   ]
  },
  {
   "cell_type": "code",
   "execution_count": 91,
   "metadata": {},
   "outputs": [
    {
     "data": {
      "text/plain": [
       "'AAAAA'"
      ]
     },
     "execution_count": 91,
     "metadata": {},
     "output_type": "execute_result"
    }
   ],
   "source": [
    "string_1.swapcase()"
   ]
  },
  {
   "cell_type": "code",
   "execution_count": 92,
   "metadata": {},
   "outputs": [
    {
     "data": {
      "text/plain": [
       "['In',\n",
       " 'Out',\n",
       " '_',\n",
       " '_17',\n",
       " '_18',\n",
       " '_19',\n",
       " '_63',\n",
       " '_64',\n",
       " '_65',\n",
       " '_68',\n",
       " '_69',\n",
       " '_70',\n",
       " '_71',\n",
       " '_72',\n",
       " '_73',\n",
       " '_74',\n",
       " '_75',\n",
       " '_76',\n",
       " '_77',\n",
       " '_78',\n",
       " '_79',\n",
       " '_80',\n",
       " '_81',\n",
       " '_83',\n",
       " '_85',\n",
       " '_87',\n",
       " '_89',\n",
       " '_90',\n",
       " '_91',\n",
       " '__',\n",
       " '___',\n",
       " '__builtin__',\n",
       " '__builtins__',\n",
       " '__doc__',\n",
       " '__loader__',\n",
       " '__name__',\n",
       " '__package__',\n",
       " '__spec__',\n",
       " '_dh',\n",
       " '_i',\n",
       " '_i1',\n",
       " '_i10',\n",
       " '_i11',\n",
       " '_i12',\n",
       " '_i13',\n",
       " '_i14',\n",
       " '_i15',\n",
       " '_i16',\n",
       " '_i17',\n",
       " '_i18',\n",
       " '_i19',\n",
       " '_i2',\n",
       " '_i20',\n",
       " '_i21',\n",
       " '_i22',\n",
       " '_i23',\n",
       " '_i24',\n",
       " '_i25',\n",
       " '_i26',\n",
       " '_i27',\n",
       " '_i28',\n",
       " '_i29',\n",
       " '_i3',\n",
       " '_i30',\n",
       " '_i31',\n",
       " '_i32',\n",
       " '_i33',\n",
       " '_i34',\n",
       " '_i35',\n",
       " '_i36',\n",
       " '_i37',\n",
       " '_i38',\n",
       " '_i39',\n",
       " '_i4',\n",
       " '_i40',\n",
       " '_i41',\n",
       " '_i42',\n",
       " '_i43',\n",
       " '_i44',\n",
       " '_i45',\n",
       " '_i46',\n",
       " '_i47',\n",
       " '_i48',\n",
       " '_i49',\n",
       " '_i5',\n",
       " '_i50',\n",
       " '_i51',\n",
       " '_i52',\n",
       " '_i53',\n",
       " '_i54',\n",
       " '_i55',\n",
       " '_i56',\n",
       " '_i57',\n",
       " '_i58',\n",
       " '_i59',\n",
       " '_i6',\n",
       " '_i60',\n",
       " '_i61',\n",
       " '_i62',\n",
       " '_i63',\n",
       " '_i64',\n",
       " '_i65',\n",
       " '_i66',\n",
       " '_i67',\n",
       " '_i68',\n",
       " '_i69',\n",
       " '_i7',\n",
       " '_i70',\n",
       " '_i71',\n",
       " '_i72',\n",
       " '_i73',\n",
       " '_i74',\n",
       " '_i75',\n",
       " '_i76',\n",
       " '_i77',\n",
       " '_i78',\n",
       " '_i79',\n",
       " '_i8',\n",
       " '_i80',\n",
       " '_i81',\n",
       " '_i82',\n",
       " '_i83',\n",
       " '_i84',\n",
       " '_i85',\n",
       " '_i86',\n",
       " '_i87',\n",
       " '_i88',\n",
       " '_i89',\n",
       " '_i9',\n",
       " '_i90',\n",
       " '_i91',\n",
       " '_i92',\n",
       " '_ih',\n",
       " '_ii',\n",
       " '_iii',\n",
       " '_oh',\n",
       " '_sh',\n",
       " 'age',\n",
       " 'age_description',\n",
       " 'calculate_circle_area',\n",
       " 'char',\n",
       " 'child',\n",
       " 'children',\n",
       " 'circle_10',\n",
       " 'cirle_10',\n",
       " 'count',\n",
       " 'counter',\n",
       " 'exit',\n",
       " 'get_ipython',\n",
       " 'has_card',\n",
       " 'hatena_1',\n",
       " 'hatena_2',\n",
       " 'hatena_3',\n",
       " 'hit_point',\n",
       " 'member',\n",
       " 'members',\n",
       " 'quit',\n",
       " 'ramen',\n",
       " 'ramen_list',\n",
       " 'random',\n",
       " 'string_1',\n",
       " 'view_count',\n",
       " 'washingMachine',\n",
       " 'word']"
      ]
     },
     "execution_count": 92,
     "metadata": {},
     "output_type": "execute_result"
    }
   ],
   "source": [
    "dir()"
   ]
  },
  {
   "cell_type": "markdown",
   "metadata": {},
   "source": [
    "## エラーと例外"
   ]
  },
  {
   "cell_type": "code",
   "execution_count": 93,
   "metadata": {},
   "outputs": [
    {
     "name": "stdout",
     "output_type": "stream",
     "text": [
      "(\"unsupported operand type(s) for +: 'int' and 'str'\",)\n"
     ]
    }
   ],
   "source": [
    "try:\n",
    "    print(123 + \"abc\")\n",
    "except Exception as e:\n",
    "    print(e.args)"
   ]
  },
  {
   "cell_type": "code",
   "execution_count": null,
   "metadata": {
    "collapsed": true
   },
   "outputs": [],
   "source": []
  }
 ],
 "metadata": {
  "kernelspec": {
   "display_name": "Python 3",
   "language": "python",
   "name": "python3"
  },
  "language_info": {
   "codemirror_mode": {
    "name": "ipython",
    "version": 3
   },
   "file_extension": ".py",
   "mimetype": "text/x-python",
   "name": "python",
   "nbconvert_exporter": "python",
   "pygments_lexer": "ipython3",
   "version": "3.6.1"
  }
 },
 "nbformat": 4,
 "nbformat_minor": 2
}
