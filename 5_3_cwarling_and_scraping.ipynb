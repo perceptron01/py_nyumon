{
 "cells": [
  {
   "cell_type": "markdown",
   "metadata": {},
   "source": [
    "# BeautifulSoup4 の確認"
   ]
  },
  {
   "cell_type": "code",
   "execution_count": 1,
   "metadata": {},
   "outputs": [],
   "source": [
    "from bs4 import BeautifulSoup"
   ]
  },
  {
   "cell_type": "code",
   "execution_count": 11,
   "metadata": {},
   "outputs": [],
   "source": [
    "soup = BeautifulSoup(\"<html> Lollipop </html>\", \"html.parser\")"
   ]
  },
  {
   "cell_type": "code",
   "execution_count": 13,
   "metadata": {},
   "outputs": [
    {
     "data": {
      "text/plain": [
       "<html> Lollipop </html>"
      ]
     },
     "execution_count": 13,
     "metadata": {},
     "output_type": "execute_result"
    }
   ],
   "source": [
    "soup"
   ]
  },
  {
   "cell_type": "markdown",
   "metadata": {},
   "source": [
    "# BS4のキホン"
   ]
  },
  {
   "cell_type": "code",
   "execution_count": 14,
   "metadata": {},
   "outputs": [],
   "source": [
    "import requests\n",
    "from bs4 import BeautifulSoup"
   ]
  },
  {
   "cell_type": "code",
   "execution_count": 15,
   "metadata": {},
   "outputs": [],
   "source": [
    "crawl_url = \"https://www.yahoo.co.jp/\"\n",
    "html_data = requests.get(crawl_url)"
   ]
  },
  {
   "cell_type": "code",
   "execution_count": 16,
   "metadata": {},
   "outputs": [
    {
     "data": {
      "text/plain": [
       "<title>Yahoo! JAPAN</title>"
      ]
     },
     "execution_count": 16,
     "metadata": {},
     "output_type": "execute_result"
    }
   ],
   "source": [
    "soup = BeautifulSoup(html_data.text, \"html.parser\")\n",
    "soup.title"
   ]
  },
  {
   "cell_type": "markdown",
   "metadata": {},
   "source": [
    "## Yahooニュースの RSS をスクレイピング"
   ]
  },
  {
   "cell_type": "code",
   "execution_count": 24,
   "metadata": {},
   "outputs": [],
   "source": [
    "crawl_url = \"https://news.yahoo.co.jp/pickup/science/rss.xml\"\n",
    "yahoo_science_news_xml = requests.get(crawl_url)"
   ]
  },
  {
   "cell_type": "code",
   "execution_count": 25,
   "metadata": {},
   "outputs": [
    {
     "data": {
      "text/plain": [
       "bs4.BeautifulSoup"
      ]
     },
     "execution_count": 25,
     "metadata": {},
     "output_type": "execute_result"
    }
   ],
   "source": [
    "soup = BeautifulSoup(yahoo_science_news_xml.text, \"html.parser\")\n",
    "type(soup)"
   ]
  },
  {
   "cell_type": "code",
   "execution_count": 26,
   "metadata": {},
   "outputs": [
    {
     "data": {
      "text/plain": [
       "[<item>\n",
       " <title>抗がん剤 分割使用が可能に</title>\n",
       " <link/>https://news.yahoo.co.jp/pickup/6294820\n",
       " <pubdate>Mon, 27 Aug 2018 12:19:26 +0900</pubdate>\n",
       " <guid ispermalink=\"false\">yahoo/news/topics/6294820</guid>\n",
       " </item>, <item>\n",
       " <title>ザリガニで蚊が増加? 米研究</title>\n",
       " <link/>https://news.yahoo.co.jp/pickup/6294803\n",
       " <pubdate>Mon, 27 Aug 2018 10:14:57 +0900</pubdate>\n",
       " <enclosure length=\"133\" type=\"image/gif\" url=\"https://s.yimg.jp/images/icon/photo.gif\">\n",
       " </enclosure>\n",
       " <guid ispermalink=\"false\">yahoo/news/topics/6294803</guid>\n",
       " </item>, <item>\n",
       " <title>夏は注意 ペットの食中毒対策</title>\n",
       " <link/>https://news.yahoo.co.jp/pickup/6294747\n",
       " <pubdate>Sun, 26 Aug 2018 18:13:48 +0900</pubdate>\n",
       " <enclosure length=\"133\" type=\"image/gif\" url=\"https://s.yimg.jp/images/icon/photo.gif\">\n",
       " </enclosure>\n",
       " <guid ispermalink=\"false\">yahoo/news/topics/6294747</guid>\n",
       " </item>, <item>\n",
       " <title>運動しすぎシニアのリスク</title>\n",
       " <link/>https://news.yahoo.co.jp/pickup/6294744\n",
       " <pubdate>Sun, 26 Aug 2018 17:45:51 +0900</pubdate>\n",
       " <enclosure length=\"133\" type=\"image/gif\" url=\"https://s.yimg.jp/images/icon/photo.gif\">\n",
       " </enclosure>\n",
       " <guid ispermalink=\"false\">yahoo/news/topics/6294744</guid>\n",
       " </item>, <item>\n",
       " <title>徹夜仕事 一晩でも太る危険性</title>\n",
       " <link/>https://news.yahoo.co.jp/pickup/6294727\n",
       " <pubdate>Sun, 26 Aug 2018 15:19:20 +0900</pubdate>\n",
       " <enclosure length=\"133\" type=\"image/gif\" url=\"https://s.yimg.jp/images/icon/photo.gif\">\n",
       " </enclosure>\n",
       " <guid ispermalink=\"false\">yahoo/news/topics/6294727</guid>\n",
       " </item>, <item>\n",
       " <title>赤ちゃんのあざ 進化する治療</title>\n",
       " <link/>https://news.yahoo.co.jp/pickup/6294712\n",
       " <pubdate>Sun, 26 Aug 2018 11:14:20 +0900</pubdate>\n",
       " <enclosure length=\"133\" type=\"image/gif\" url=\"https://s.yimg.jp/images/icon/photo.gif\">\n",
       " </enclosure>\n",
       " <guid ispermalink=\"false\">yahoo/news/topics/6294712</guid>\n",
       " </item>, <item>\n",
       " <title>国産超音速ドローン 開発順調</title>\n",
       " <link/>https://news.yahoo.co.jp/pickup/6294641\n",
       " <pubdate>Sat, 25 Aug 2018 13:26:57 +0900</pubdate>\n",
       " <guid ispermalink=\"false\">yahoo/news/topics/6294641</guid>\n",
       " </item>, <item>\n",
       " <title>旧盆の海にお化け?気象台解説</title>\n",
       " <link/>https://news.yahoo.co.jp/pickup/6294638\n",
       " <pubdate>Sat, 25 Aug 2018 12:49:21 +0900</pubdate>\n",
       " <enclosure length=\"133\" type=\"image/gif\" url=\"https://s.yimg.jp/images/icon/photo.gif\">\n",
       " </enclosure>\n",
       " <guid ispermalink=\"false\">yahoo/news/topics/6294638</guid>\n",
       " </item>]"
      ]
     },
     "execution_count": 26,
     "metadata": {},
     "output_type": "execute_result"
    }
   ],
   "source": [
    "soup.findAll('item')"
   ]
  },
  {
   "cell_type": "code",
   "execution_count": 27,
   "metadata": {},
   "outputs": [
    {
     "name": "stdout",
     "output_type": "stream",
     "text": [
      "抗がん剤 分割使用が可能に\n",
      "ザリガニで蚊が増加? 米研究\n",
      "夏は注意 ペットの食中毒対策\n",
      "運動しすぎシニアのリスク\n",
      "徹夜仕事 一晩でも太る危険性\n",
      "赤ちゃんのあざ 進化する治療\n",
      "国産超音速ドローン 開発順調\n",
      "旧盆の海にお化け?気象台解説\n"
     ]
    }
   ],
   "source": [
    "for news in soup.findAll('item'):\n",
    "    print(news.title.string)"
   ]
  },
  {
   "cell_type": "markdown",
   "metadata": {},
   "source": [
    "## Amazon の場合"
   ]
  },
  {
   "cell_type": "code",
   "execution_count": 34,
   "metadata": {},
   "outputs": [],
   "source": [
    "target_url = 'https://www.amazon.co.jp/gp/new-releases/books/'\n",
    "ranking_html = requests.get(target_url)"
   ]
  },
  {
   "cell_type": "code",
   "execution_count": 36,
   "metadata": {},
   "outputs": [],
   "source": [
    "# ランキング1位のサンプルで確認\n",
    "soup = BeautifulSoup(ranking_html.text, \"html.parser\")"
   ]
  },
  {
   "cell_type": "code",
   "execution_count": 42,
   "metadata": {},
   "outputs": [
    {
     "data": {
      "text/plain": [
       "'死ぬこと以外かすり傷'"
      ]
     },
     "execution_count": 42,
     "metadata": {},
     "output_type": "execute_result"
    }
   ],
   "source": [
    "soup.find(class_ = 'zg_itemRow').find('a').img['alt']"
   ]
  },
  {
   "cell_type": "code",
   "execution_count": 61,
   "metadata": {},
   "outputs": [
    {
     "name": "stdout",
     "output_type": "stream",
     "text": [
      "1.死ぬこと以外かすり傷\n",
      "2.バカとつき合うな\n",
      "3.spoon.2Di vol.41\n",
      "4.【Amazon.co.jp限定】特製ポストカード付(数量限定)『オードリーとオールナイトニッポン 自分磨き編』 (扶桑社ムック)\n",
      "5.【チャン・グンソクAmazon特製ポストカード&A2超特大ポスター付】K-BOY Paradise vol.21 (扶桑社ムック)\n",
      "6.星界の戦旗VI 帝国の雷鳴 (ハヤカワ文庫JA)\n",
      "7.25ans (ヴァンサンカン) 2018年 11月号 宇野昌磨 特別版 (FG MOOK)\n",
      "8.欅坂46 今泉佑唯ソロ写真集(仮)\n",
      "9.ナナメの夕暮れ\n",
      "10.【Amazon.co.jp限定】描き下ろし限定ペーパー付き できるかなロワイヤル\n",
      "11.SKE48衣装図鑑 全力制服 (TJMOOK)\n",
      "12.深田恭子写真集 Blue Palpitations\n",
      "13.【Amazon.co.jp 限定】【Amazon.co.jp 限定特典/佐藤健クリアファイル付き】[佐藤健 in 半分、青い。] PHOTO BOOK\n",
      "14.犬がうまれる - 絵と言葉の犬あるある101 …あ、猫もちょっぴり - (ワニプラス)\n",
      "15.【Amazon.co.jp 限定】【Amazon.co.jp 限定特典/永野芽郁クリアファイル付き】連続テレビ小説 「半分、青い。」 LAST PHOTO BOOK\n",
      "16.NEOGEO mini 対戦格闘ゲーム攻略ガイド\n",
      "17.B'z ザ・クロニクル 特別限定版(ポストカード付)\n",
      "18.【Amazon.co.jp限定】浜辺美波 2019カレンダーブック【写真集付 プレミアム版】限定絵柄ポストカード付き\n",
      "19.別冊カドカワ 総力特集 BUCK-TICK (カドカワムック)\n",
      "20.おっさんずラブ シナリオブック\n"
     ]
    }
   ],
   "source": [
    "# ランキングすべての情報を取得\n",
    "for item in soup.findAll(class_ = 'zg_itemRow'):\n",
    "    rank_num = item.find(class_ = 'zg_rankNumber').string.strip()\n",
    "    item_title = item.find('a').img['alt']\n",
    "    print(rank_num + item_title)"
   ]
  }
 ],
 "metadata": {
  "kernelspec": {
   "display_name": "Python 3",
   "language": "python",
   "name": "python3"
  },
  "language_info": {
   "codemirror_mode": {
    "name": "ipython",
    "version": 3
   },
   "file_extension": ".py",
   "mimetype": "text/x-python",
   "name": "python",
   "nbconvert_exporter": "python",
   "pygments_lexer": "ipython3",
   "version": "3.6.5"
  }
 },
 "nbformat": 4,
 "nbformat_minor": 2
}
